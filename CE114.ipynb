{
  "nbformat": 4,
  "nbformat_minor": 0,
  "metadata": {
    "colab": {
      "name": "CE114.ipynb",
      "provenance": [],
      "collapsed_sections": [],
      "include_colab_link": true
    },
    "kernelspec": {
      "name": "python3",
      "display_name": "Python 3"
    }
  },
  "cells": [
    {
      "cell_type": "markdown",
      "metadata": {
        "id": "view-in-github",
        "colab_type": "text"
      },
      "source": [
        "<a href=\"https://colab.research.google.com/github/austinkinnrubin/ce114/blob/master/CE114.ipynb\" target=\"_parent\"><img src=\"https://colab.research.google.com/assets/colab-badge.svg\" alt=\"Open In Colab\"/></a>"
      ]
    },
    {
      "cell_type": "markdown",
      "metadata": {
        "id": "NXqNVZS92t6S",
        "colab_type": "text"
      },
      "source": [
        "#CE 114 Problem Set 1#\n",
        "\n",
        "Water release  optimization using Backward Moving Dynamic Programming\n",
        "\n",
        "---\n",
        "\n"
      ]
    },
    {
      "cell_type": "markdown",
      "metadata": {
        "id": "V0j45_eH3XII",
        "colab_type": "text"
      },
      "source": [
        "## Importing libraries"
      ]
    },
    {
      "cell_type": "code",
      "metadata": {
        "id": "eRgRLvl2p5at",
        "colab_type": "code",
        "colab": {}
      },
      "source": [
        "%reload_ext autoreload\n",
        "%autoreload 2\n",
        "%matplotlib inline"
      ],
      "execution_count": 0,
      "outputs": []
    },
    {
      "cell_type": "code",
      "metadata": {
        "id": "EtSBvjca2MGQ",
        "colab_type": "code",
        "colab": {}
      },
      "source": [
        "from matplotlib import pyplot as plt\n",
        "import numpy as np\n",
        "import pandas as pd"
      ],
      "execution_count": 0,
      "outputs": []
    },
    {
      "cell_type": "markdown",
      "metadata": {
        "id": "WeyaYScK4QRA",
        "colab_type": "text"
      },
      "source": [
        "## Data initialization\n",
        "\n",
        "year = [1917,1918,1919,1920,1921,1922,1923,1924,1925,1926,1927,1928,1929,1930,1931,1932,1933,1934,1935,1936,1937,1938]\n",
        "\n",
        "annual_inflow = [17.26,10.99,13.69,9.2,23.8,17.98,13.21,5.74,15.99,11.76,23.83,16.76,8.4,13.52,6.1,13.12,8.94,8.63,16.59,17.35,13.33,31.83]\n",
        "\n",
        "cumm_annual_inflow = [17.26,28.25,41.94,51.14,74.94,92.92,106.13,111.87,127.86,139.62,163.45,180.21,188.61,202.13,208.23,221.35,230.29,238.92,255.51,272.86,286.19,318.02]\n",
        "\n",
        "cumm_annual_demand = [14.45545455,28.91090909,43.36636364,57.82181818,72.27727273,86.73272727,101.1881818,115.6436364,130.0990909,144.5545455,159.01,173.4654545,187.9209091,202.3763636,216.8318182,231.2872727,245.7427273,260.1981818,274.6536364,289.1090909,303.5645455,318.02]\n"
      ]
    },
    {
      "cell_type": "code",
      "metadata": {
        "id": "EOIWIItl4aMy",
        "colab_type": "code",
        "colab": {}
      },
      "source": [
        "year = np.array([1917,1918,1919,1920,1921,1922,1923,1924,1925,1926,1927,1928,1929,1930,1931,1932,1933,1934,1935,1936,1937,1938])\n",
        "\n",
        "annual_inflow = np.array([17.26,10.99,13.69,9.2,23.8,17.98,13.21,5.74,15.99,11.76,23.83,16.76,8.4,13.52,6.1,13.12,8.94,8.63,16.59,17.35,13.33,31.83])\n",
        "\n",
        "cumm_annual_inflow = np.array([17.26,28.25,41.94,51.14,74.94,92.92,106.13,111.87,127.86,139.62,163.45,180.21,188.61,202.13,208.23,221.35,230.29,238.92,255.51,272.86,286.19,318.02])\n",
        "\n",
        "cumm_annual_demand = np.array([14.45545455,28.91090909,43.36636364,57.82181818,72.27727273,86.73272727,101.1881818,115.6436364,130.0990909,144.5545455,159.01,173.4654545,187.9209091,202.3763636,216.8318182,231.2872727,245.7427273,260.1981818,274.6536364,289.1090909,303.5645455,318.02])"
      ],
      "execution_count": 0,
      "outputs": []
    },
    {
      "cell_type": "markdown",
      "metadata": {
        "id": "xs1OMdLs77bn",
        "colab_type": "text"
      },
      "source": [
        "## Graphing data with PyPlot"
      ]
    },
    {
      "cell_type": "code",
      "metadata": {
        "id": "1A0skMa28BpL",
        "colab_type": "code",
        "colab": {
          "base_uri": "https://localhost:8080/",
          "height": 265
        },
        "outputId": "1f042b24-77cc-48fa-dc94-4d9cab4a2d2c"
      },
      "source": [
        "plt.plot(year,annual_inflow)\n",
        "mean = np.average(annual_inflow)\n"
      ],
      "execution_count": 28,
      "outputs": [
        {
          "output_type": "display_data",
          "data": {
            "image/png": "[encoded data removed]",
            "text/plain": [
              "<Figure size 432x288 with 1 Axes>"
            ]
          },
          "metadata": {
            "tags": []
          }
        }
      ]
    },
    {
      "cell_type": "code",
      "metadata": {
        "id": "EEELWxjE8oAj",
        "colab_type": "code",
        "colab": {
          "base_uri": "https://localhost:8080/",
          "height": 282
        },
        "outputId": "1a8b4ec7-6b0e-45a4-f61a-f4a2dd8e7fd4"
      },
      "source": [
        "plt.plot(year, cumm_annual_inflow)\n",
        "plt.plot(year, cumm_annual_demand)"
      ],
      "execution_count": 14,
      "outputs": [
        {
          "output_type": "execute_result",
          "data": {
            "text/plain": [
              "[<matplotlib.lines.Line2D at 0x7f44d29d95f8>]"
            ]
          },
          "metadata": {
            "tags": []
          },
          "execution_count": 14
        },
        {
          "output_type": "display_data",
          "data": {
            "image/png": "[encoded data removed]",
            "text/plain": [
              "<Figure size 432x288 with 1 Axes>"
            ]
          },
          "metadata": {
            "tags": []
          }
        }
      ]
    },
    {
      "cell_type": "code",
      "metadata": {
        "id": "T5AzX-Gh-btW",
        "colab_type": "code",
        "colab": {
          "base_uri": "https://localhost:8080/",
          "height": 34
        },
        "outputId": "ae61c37a-e6b0-443a-8cde-8336409f5cb5"
      },
      "source": [
        "mean = np.average(annual_inflow)\n",
        "print(mean)"
      ],
      "execution_count": 23,
      "outputs": [
        {
          "output_type": "stream",
          "text": [
            "14.455454545454545\n"
          ],
          "name": "stdout"
        }
      ]
    }
  ]
}